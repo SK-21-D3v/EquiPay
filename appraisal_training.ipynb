{
 "cells": [
  {
   "cell_type": "code",
   "execution_count": 1,
   "metadata": {},
   "outputs": [
    {
     "name": "stdout",
     "output_type": "stream",
     "text": [
      "Classification Model Accuracy: 100.00%\n",
      "Regression Model Mean Absolute Error: 1.85\n",
      "\n",
      "The employee deserves an appraisal.\n",
      "Appraisal Percentage: 13.58%\n",
      "Appraisal Amount: ₹7469.00\n"
     ]
    },
    {
     "name": "stderr",
     "output_type": "stream",
     "text": [
      "c:\\Users\\HP\\AppData\\Local\\Programs\\Python\\Python312\\Lib\\site-packages\\sklearn\\utils\\validation.py:2739: UserWarning: X does not have valid feature names, but RandomForestClassifier was fitted with feature names\n",
      "  warnings.warn(\n",
      "c:\\Users\\HP\\AppData\\Local\\Programs\\Python\\Python312\\Lib\\site-packages\\sklearn\\utils\\validation.py:2739: UserWarning: X does not have valid feature names, but RandomForestRegressor was fitted with feature names\n",
      "  warnings.warn(\n"
     ]
    }
   ],
   "source": [
    "import pandas as pd\n",
    "import numpy as np\n",
    "from sklearn.model_selection import train_test_split\n",
    "from sklearn.ensemble import RandomForestClassifier, RandomForestRegressor\n",
    "from sklearn.metrics import accuracy_score, mean_absolute_error\n",
    "\n",
    "# Step 1: Dummy Dataset\n",
    "data = {\n",
    "    \"Name\": [\"Alice\", \"Bob\", \"Clara\", \"David\", \"Ella\", \"Frank\", \"Grace\", \"Henry\", \"Ivy\", \"Jack\"],\n",
    "    \"Gender\": [\"Female\", \"Male\", \"Female\", \"Male\", \"Female\", \"Male\", \"Female\", \"Male\", \"Female\", \"Male\"],\n",
    "    \"Department\": [\"HR\", \"IT\", \"IT\", \"Finance\", \"Finance\", \"HR\", \"IT\", \"Finance\", \"HR\", \"IT\"],\n",
    "    \"Role\": [\"Manager\", \"Engineer\", \"Engineer\", \"Analyst\", \"Analyst\", \"Manager\", \"Engineer\", \"Analyst\", \"Manager\", \"Engineer\"],\n",
    "    \"EnvironmentSatisfaction\": [3, 2, 4, 1, 3, 2, 3, 4, 3, 2],\n",
    "    \"SalaryHikePercentage\": [12, 8, 15, 6, 10, 7, 11, 14, 9, 8],\n",
    "    \"WorkLifeBalance\": [3, 2, 4, 1, 3, 2, 3, 4, 3, 2],\n",
    "    \"YearsAtCompany\": [5, 3, 6, 2, 4, 3, 5, 7, 6, 3],\n",
    "    \"ExperienceInCurrentRole\": [3, 2, 4, 1, 3, 2, 3, 5, 4, 2],\n",
    "    \"YearsSinceLastPromotion\": [1, 3, 2, 4, 3, 3, 1, 1, 2, 3],\n",
    "    \"YearsWithCurrentManager\": [4, 3, 5, 2, 3, 3, 4, 5, 4, 3],\n",
    "    \"CurrentSalary\": [55000, 60000, 58000, 65000, 56000, 62000, 57000, 67000, 54000, 63000],\n",
    "    \"DeservesAppraisal\": [1, 0, 1, 0, 1, 0, 1, 1, 1, 0],  # 1: Yes, 0: No\n",
    "    \"AppraisalPercentage\": [15, 0, 20, 0, 12, 0, 10, 18, 14, 0],\n",
    "}\n",
    "\n",
    "df = pd.DataFrame(data)\n",
    "\n",
    "# Step 2: Preprocessing\n",
    "features = [\n",
    "    \"EnvironmentSatisfaction\",\n",
    "    \"SalaryHikePercentage\",\n",
    "    \"WorkLifeBalance\",\n",
    "    \"YearsAtCompany\",\n",
    "    \"ExperienceInCurrentRole\",\n",
    "    \"YearsSinceLastPromotion\",\n",
    "    \"YearsWithCurrentManager\",\n",
    "]\n",
    "\n",
    "X = df[features]\n",
    "y_classification = df[\"DeservesAppraisal\"]\n",
    "y_regression = df[\"AppraisalPercentage\"]\n",
    "\n",
    "# Step 3: Train-Test Split\n",
    "X_train, X_test, y_class_train, y_class_test = train_test_split(X, y_classification, test_size=0.2, random_state=42)\n",
    "X_train_reg, X_test_reg, y_reg_train, y_reg_test = train_test_split(X, y_regression, test_size=0.2, random_state=42)\n",
    "\n",
    "# Step 4: Classification Model (Eligibility)\n",
    "classification_model = RandomForestClassifier(random_state=42)\n",
    "classification_model.fit(X_train, y_class_train)\n",
    "classification_predictions = classification_model.predict(X_test)\n",
    "\n",
    "# Step 5: Regression Model (Appraisal Percentage)\n",
    "regression_model = RandomForestRegressor(random_state=42)\n",
    "regression_model.fit(X_train_reg, y_reg_train)\n",
    "regression_predictions = regression_model.predict(X_test_reg)\n",
    "\n",
    "# Step 6: Model Evaluation\n",
    "classification_accuracy = accuracy_score(y_class_test, classification_predictions)\n",
    "regression_mae = mean_absolute_error(y_reg_test, regression_predictions)\n",
    "\n",
    "print(f\"Classification Model Accuracy: {classification_accuracy * 100:.2f}%\")\n",
    "print(f\"Regression Model Mean Absolute Error: {regression_mae:.2f}\")\n",
    "\n",
    "# Step 7: HR Input\n",
    "def predict_appraisal(environment_satisfaction, salary_hike_percentage, work_life_balance, years_at_company,\n",
    "                      experience_in_current_role, years_since_last_promotion, years_with_current_manager, current_salary):\n",
    "    input_data = np.array([[\n",
    "        environment_satisfaction,\n",
    "        salary_hike_percentage,\n",
    "        work_life_balance,\n",
    "        years_at_company,\n",
    "        experience_in_current_role,\n",
    "        years_since_last_promotion,\n",
    "        years_with_current_manager,\n",
    "    ]])\n",
    "    \n",
    "    # Predict eligibility\n",
    "    eligibility = classification_model.predict(input_data)[0]\n",
    "    \n",
    "    if eligibility == 1:\n",
    "        # Predict appraisal percentage\n",
    "        appraisal_percentage = regression_model.predict(input_data)[0]\n",
    "        appraisal_amount = (appraisal_percentage / 100) * current_salary\n",
    "        print(\"\\nThe employee deserves an appraisal.\")\n",
    "        print(f\"Appraisal Percentage: {appraisal_percentage:.2f}%\")\n",
    "        print(f\"Appraisal Amount: ₹{appraisal_amount:.2f}\")\n",
    "    else:\n",
    "        print(\"\\nThe employee does not deserve an appraisal.\")\n",
    "        \n",
    "predict_appraisal(\n",
    "    environment_satisfaction=3,\n",
    "    salary_hike_percentage=12,\n",
    "    work_life_balance=3,\n",
    "    years_at_company=5,\n",
    "    experience_in_current_role=3,\n",
    "    years_since_last_promotion=1,\n",
    "    years_with_current_manager=4,\n",
    "    current_salary=55000,\n",
    ")\n"
   ]
  },
  {
   "cell_type": "code",
   "execution_count": 6,
   "metadata": {},
   "outputs": [
    {
     "data": {
      "text/plain": [
       "['regression_model.pkl']"
      ]
     },
     "execution_count": 6,
     "metadata": {},
     "output_type": "execute_result"
    }
   ],
   "source": [
    "import joblib\n",
    "\n",
    "# Save the classification model\n",
    "joblib.dump(classification_model, \"classification_model.pkl\")\n",
    "\n",
    "# Save the regression model\n",
    "joblib.dump(regression_model, \"regression_model.pkl\")"
   ]
  },
  {
   "cell_type": "code",
   "execution_count": 7,
   "metadata": {},
   "outputs": [
    {
     "data": {
      "text/plain": [
       "['classification_model.pkl']"
      ]
     },
     "execution_count": 7,
     "metadata": {},
     "output_type": "execute_result"
    }
   ],
   "source": [
    "# Save the classification model\n",
    "joblib.dump(classification_model, \"classification_model.pkl\")"
   ]
  }
 ],
 "metadata": {
  "kernelspec": {
   "display_name": "Python 3",
   "language": "python",
   "name": "python3"
  },
  "language_info": {
   "codemirror_mode": {
    "name": "ipython",
    "version": 3
   },
   "file_extension": ".py",
   "mimetype": "text/x-python",
   "name": "python",
   "nbconvert_exporter": "python",
   "pygments_lexer": "ipython3",
   "version": "3.12.6"
  }
 },
 "nbformat": 4,
 "nbformat_minor": 2
}
